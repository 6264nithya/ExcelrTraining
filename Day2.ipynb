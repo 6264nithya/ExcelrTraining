{
  "nbformat": 4,
  "nbformat_minor": 0,
  "metadata": {
    "colab": {
      "provenance": [],
      "authorship_tag": "ABX9TyP+N63psNwWiPlSHnQfbalV",
      "include_colab_link": true
    },
    "kernelspec": {
      "name": "python3",
      "display_name": "Python 3"
    },
    "language_info": {
      "name": "python"
    }
  },
  "cells": [
    {
      "cell_type": "markdown",
      "metadata": {
        "id": "view-in-github",
        "colab_type": "text"
      },
      "source": [
        "<a href=\"https://colab.research.google.com/github/6264nithya/ExcelrTraining/blob/main/Day2.ipynb\" target=\"_parent\"><img src=\"https://colab.research.google.com/assets/colab-badge.svg\" alt=\"Open In Colab\"/></a>"
      ]
    },
    {
      "cell_type": "code",
      "execution_count": 1,
      "metadata": {
        "colab": {
          "base_uri": "https://localhost:8080/"
        },
        "id": "cCefiW4RMvl2",
        "outputId": "a1470f17-46c8-4251-e7eb-abf8db39e6a2"
      },
      "outputs": [
        {
          "output_type": "stream",
          "name": "stdout",
          "text": [
            "[1, 2, 3, 4, 10]\n",
            "(1, 2, 3, 4, 5, 'abc')\n",
            "{'name': 'A', 'age': 10, 'class': 10, 'Grade': 'B', 'Section': 'Delta'}\n",
            "10\n",
            "4\n",
            "Delta\n"
          ]
        }
      ],
      "source": [
        "List=[1,2,3,4,10]\n",
        "Tuple=(1,2,3,4,5,\"abc\")\n",
        "Dic={\"name\":\"A\",\"age\":10,\"class\":10,\"Grade\":\"B\",\"Section\":\"Delta\"}\n",
        "print(List)\n",
        "print(Tuple)\n",
        "print(Dic)\n",
        "print(List[4])\n",
        "print(Tuple[3])\n",
        "print(Dic[\"Section\"])"
      ]
    },
    {
      "cell_type": "code",
      "source": [],
      "metadata": {
        "id": "68jgbPsfODsD"
      },
      "execution_count": null,
      "outputs": []
    }
  ]
}