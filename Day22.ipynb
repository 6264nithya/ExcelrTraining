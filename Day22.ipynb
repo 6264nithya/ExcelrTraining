{
  "nbformat": 4,
  "nbformat_minor": 0,
  "metadata": {
    "colab": {
      "provenance": [],
      "authorship_tag": "ABX9TyMDEG7ZqMBo+mCNm64vZICi",
      "include_colab_link": true
    },
    "kernelspec": {
      "name": "python3",
      "display_name": "Python 3"
    },
    "language_info": {
      "name": "python"
    }
  },
  "cells": [
    {
      "cell_type": "markdown",
      "metadata": {
        "id": "view-in-github",
        "colab_type": "text"
      },
      "source": [
        "<a href=\"https://colab.research.google.com/github/6264nithya/ExcelrTraining/blob/main/Day22.ipynb\" target=\"_parent\"><img src=\"https://colab.research.google.com/assets/colab-badge.svg\" alt=\"Open In Colab\"/></a>"
      ]
    },
    {
      "cell_type": "code",
      "execution_count": 4,
      "metadata": {
        "colab": {
          "base_uri": "https://localhost:8080/"
        },
        "id": "4P8Gz_yMMKLD",
        "outputId": "86d3e46d-3f43-4c48-d7dc-86a40999585a"
      },
      "outputs": [
        {
          "output_type": "stream",
          "name": "stdout",
          "text": [
            "Part-of-Speech Tags:\n",
            "NLP: PROPN\n",
            "is: AUX\n",
            "amazing: ADJ\n",
            "and: CCONJ\n",
            "fun: ADJ\n",
            "to: PART\n",
            "learn: VERB\n",
            ".: PUNCT\n"
          ]
        }
      ],
      "source": [
        "import spacy\n",
        "\n",
        "def pos_tagging(sentence):\n",
        "    \"\"\"\n",
        "    Perform part-of-speech tagging on a given sentence using SpaCy.\n",
        "\n",
        "    Args:\n",
        "        sentence (str): The input sentence.\n",
        "\n",
        "    Returns:\n",
        "        list: A list of tuples containing words and their POS tags.\n",
        "    \"\"\"\n",
        "    # Load the SpaCy English language model\n",
        "    nlp = spacy.load(\"en_core_web_sm\")\n",
        "\n",
        "    # Process the sentence\n",
        "    doc = nlp(sentence)\n",
        "\n",
        "    # Extract words and their POS tags\n",
        "    pos_tags = [(token.text, token.pos_) for token in doc]\n",
        "    return pos_tags\n",
        "\n",
        "# Test the function\n",
        "sentence = 'NLP is amazing and fun to learn.'\n",
        "pos_tags = pos_tagging(sentence)\n",
        "print(\"Part-of-Speech Tags:\")\n",
        "for word, pos in pos_tags:\n",
        "    print(f\"{word}: {pos}\")\n",
        "\n"
      ]
    }
  ]
}