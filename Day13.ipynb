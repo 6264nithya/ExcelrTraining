{
  "nbformat": 4,
  "nbformat_minor": 0,
  "metadata": {
    "colab": {
      "provenance": [],
      "authorship_tag": "ABX9TyOVgf07oAI7H6qSwOyJ4BcB",
      "include_colab_link": true
    },
    "kernelspec": {
      "name": "python3",
      "display_name": "Python 3"
    },
    "language_info": {
      "name": "python"
    }
  },
  "cells": [
    {
      "cell_type": "markdown",
      "metadata": {
        "id": "view-in-github",
        "colab_type": "text"
      },
      "source": [
        "<a href=\"https://colab.research.google.com/github/6264nithya/ExcelrTraining/blob/main/Day13.ipynb\" target=\"_parent\"><img src=\"https://colab.research.google.com/assets/colab-badge.svg\" alt=\"Open In Colab\"/></a>"
      ]
    },
    {
      "cell_type": "code",
      "execution_count": 4,
      "metadata": {
        "colab": {
          "base_uri": "https://localhost:8080/"
        },
        "id": "UZ-728kAzU8F",
        "outputId": "08819b5f-279a-480e-cd3d-03d754c797f5"
      },
      "outputs": [
        {
          "output_type": "stream",
          "name": "stdout",
          "text": [
            "Token          POS Tag        Detailed Tag\n",
            "----------------------------------------\n",
            "NLP            PROPN          NNP\n",
            "is             AUX            VBZ\n",
            "amazing        ADJ            JJ\n",
            "and            CCONJ          CC\n",
            "fun            ADJ            JJ\n",
            "to             PART           TO\n",
            "learn          VERB           VB\n",
            ".              PUNCT          .\n"
          ]
        }
      ],
      "source": [
        "import spacy\n",
        "nlp = spacy.load(\"en_core_web_sm\")\n",
        "sentence = \"NLP is amazing and fun to learn.\"\n",
        "doc = nlp(sentence)\n",
        "print(f\"{'Token':<15}{'POS Tag':<15}{'Detailed Tag'}\")\n",
        "print(\"-\" * 40)\n",
        "for token in doc:\n",
        "    print(f\"{token.text:<15}{token.pos_:<15}{token.tag_}\")"
      ]
    },
    {
      "cell_type": "code",
      "source": [],
      "metadata": {
        "id": "hskVAbqnzg-A"
      },
      "execution_count": null,
      "outputs": []
    }
  ]
}