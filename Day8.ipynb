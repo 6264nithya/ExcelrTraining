{
  "nbformat": 4,
  "nbformat_minor": 0,
  "metadata": {
    "colab": {
      "provenance": [],
      "authorship_tag": "ABX9TyO8xtJutS7erun6d2xB2IB1",
      "include_colab_link": true
    },
    "kernelspec": {
      "name": "python3",
      "display_name": "Python 3"
    },
    "language_info": {
      "name": "python"
    }
  },
  "cells": [
    {
      "cell_type": "markdown",
      "metadata": {
        "id": "view-in-github",
        "colab_type": "text"
      },
      "source": [
        "<a href=\"https://colab.research.google.com/github/6264nithya/ExcelrTraining/blob/main/Day8.ipynb\" target=\"_parent\"><img src=\"https://colab.research.google.com/assets/colab-badge.svg\" alt=\"Open In Colab\"/></a>"
      ]
    },
    {
      "cell_type": "code",
      "execution_count": 5,
      "metadata": {
        "colab": {
          "base_uri": "https://localhost:8080/"
        },
        "id": "OVAGDbdPu0Fk",
        "outputId": "9e905f4b-5ac8-438a-8d7d-df36475a33bc"
      },
      "outputs": [
        {
          "output_type": "stream",
          "name": "stdout",
          "text": [
            "Requirement already satisfied: nltk in /usr/local/lib/python3.11/dist-packages (3.9.1)\n",
            "Requirement already satisfied: click in /usr/local/lib/python3.11/dist-packages (from nltk) (8.1.8)\n",
            "Requirement already satisfied: joblib in /usr/local/lib/python3.11/dist-packages (from nltk) (1.4.2)\n",
            "Requirement already satisfied: regex>=2021.8.3 in /usr/local/lib/python3.11/dist-packages (from nltk) (2024.11.6)\n",
            "Requirement already satisfied: tqdm in /usr/local/lib/python3.11/dist-packages (from nltk) (4.67.1)\n"
          ]
        }
      ],
      "source": [
        "pip install nltk\n"
      ]
    },
    {
      "cell_type": "code",
      "source": [
        "import nltk\n",
        "nltk.download('punkt')\n"
      ],
      "metadata": {
        "colab": {
          "base_uri": "https://localhost:8080/"
        },
        "id": "C88S8nsyvFVb",
        "outputId": "c6b5d6a6-dfbf-4f93-8fea-ae0378d3ba58"
      },
      "execution_count": 6,
      "outputs": [
        {
          "output_type": "stream",
          "name": "stderr",
          "text": [
            "[nltk_data] Downloading package punkt to /root/nltk_data...\n",
            "[nltk_data]   Package punkt is already up-to-date!\n"
          ]
        },
        {
          "output_type": "execute_result",
          "data": {
            "text/plain": [
              "True"
            ]
          },
          "metadata": {},
          "execution_count": 6
        }
      ]
    },
    {
      "cell_type": "code",
      "source": [
        "import nltk\n",
        "nltk.download('punkt_tab')\n",
        "paragraph = \"\"\"Natural Language Processing (NLP) is a fascinating field of study.\n",
        "It involves the interaction between computers and humans using natural language.\n",
        "There are many applications of NLP, such as sentiment analysis, language translation, and chatbots.\"\"\"\n",
        "sentences = nltk.sent_tokenize(paragraph)\n",
        "words = nltk.word_tokenize(paragraph)\n",
        "print(\"Original Paragraph:\", paragraph)\n",
        "print(\"\\nTokenized Sentences:\", sentences)\n",
        "print(\"\\nTokenized Words:\", words)\n"
      ],
      "metadata": {
        "colab": {
          "base_uri": "https://localhost:8080/"
        },
        "id": "Ngi1TfDQvHd9",
        "outputId": "cbce58a1-cede-49ce-8020-ed01eaef017e"
      },
      "execution_count": 9,
      "outputs": [
        {
          "output_type": "stream",
          "name": "stdout",
          "text": [
            "Original Paragraph: Natural Language Processing (NLP) is a fascinating field of study.\n",
            "It involves the interaction between computers and humans using natural language.\n",
            "There are many applications of NLP, such as sentiment analysis, language translation, and chatbots.\n",
            "\n",
            "Tokenized Sentences: ['Natural Language Processing (NLP) is a fascinating field of study.', 'It involves the interaction between computers and humans using natural language.', 'There are many applications of NLP, such as sentiment analysis, language translation, and chatbots.']\n",
            "\n",
            "Tokenized Words: ['Natural', 'Language', 'Processing', '(', 'NLP', ')', 'is', 'a', 'fascinating', 'field', 'of', 'study', '.', 'It', 'involves', 'the', 'interaction', 'between', 'computers', 'and', 'humans', 'using', 'natural', 'language', '.', 'There', 'are', 'many', 'applications', 'of', 'NLP', ',', 'such', 'as', 'sentiment', 'analysis', ',', 'language', 'translation', ',', 'and', 'chatbots', '.']\n"
          ]
        },
        {
          "output_type": "stream",
          "name": "stderr",
          "text": [
            "[nltk_data] Downloading package punkt_tab to /root/nltk_data...\n",
            "[nltk_data]   Package punkt_tab is already up-to-date!\n"
          ]
        }
      ]
    },
    {
      "cell_type": "code",
      "source": [],
      "metadata": {
        "id": "LxsOij9tvZNT"
      },
      "execution_count": null,
      "outputs": []
    }
  ]
}