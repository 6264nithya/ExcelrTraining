{
  "nbformat": 4,
  "nbformat_minor": 0,
  "metadata": {
    "colab": {
      "provenance": [],
      "authorship_tag": "ABX9TyPHQFT/n19XxYSm1tAvLDzT",
      "include_colab_link": true
    },
    "kernelspec": {
      "name": "python3",
      "display_name": "Python 3"
    },
    "language_info": {
      "name": "python"
    }
  },
  "cells": [
    {
      "cell_type": "markdown",
      "metadata": {
        "id": "view-in-github",
        "colab_type": "text"
      },
      "source": [
        "<a href=\"https://colab.research.google.com/github/6264nithya/ExcelrTraining/blob/main/Day32.ipynb\" target=\"_parent\"><img src=\"https://colab.research.google.com/assets/colab-badge.svg\" alt=\"Open In Colab\"/></a>"
      ]
    },
    {
      "cell_type": "code",
      "execution_count": 9,
      "metadata": {
        "colab": {
          "base_uri": "https://localhost:8080/"
        },
        "id": "4P8Gz_yMMKLD",
        "outputId": "475a782a-2735-47fe-a617-3c2434644bc7"
      },
      "outputs": [
        {
          "output_type": "stream",
          "name": "stdout",
          "text": [
            "Error: File not found at sample.txt\n",
            "Top 5 Most Frequent Tokens:\n"
          ]
        },
        {
          "output_type": "stream",
          "name": "stderr",
          "text": [
            "[nltk_data] Downloading package punkt to /root/nltk_data...\n",
            "[nltk_data]   Package punkt is already up-to-date!\n"
          ]
        }
      ],
      "source": [
        "from collections import Counter\n",
        "import nltk\n",
        "from nltk.tokenize import word_tokenize\n",
        "nltk.download('punkt')\n",
        "\n",
        "def calculate_term_frequency(file_path, top_n=5):\n",
        "    \"\"\"\n",
        "    Load a text file, tokenize the text, calculate term frequency,\n",
        "    and return the top n most frequent tokens.\n",
        "\n",
        "    Args:\n",
        "        file_path (str): Path to the text file.\n",
        "        top_n (int): Number of most frequent tokens to return.\n",
        "\n",
        "    Returns:\n",
        "        list: A list of tuples containing tokens and their frequencies.\n",
        "    \"\"\"\n",
        "    try:\n",
        "        with open(file_path, 'r') as file:\n",
        "            text = file.read()\n",
        "        tokens = word_tokenize(text)\n",
        "        term_frequency = Counter(tokens)\n",
        "        return term_frequency.most_common(top_n)\n",
        "\n",
        "    except FileNotFoundError:\n",
        "        print(f\"Error: File not found at {file_path}\")\n",
        "        return []\n",
        "file_path = 'sample.txt'\n",
        "top_tokens = calculate_term_frequency(file_path)\n",
        "print(\"Top 5 Most Frequent Tokens:\")\n",
        "for token, frequency in top_tokens:\n",
        "    print(f\"{token}: {frequency}\")\n"
      ]
    }
  ]
}