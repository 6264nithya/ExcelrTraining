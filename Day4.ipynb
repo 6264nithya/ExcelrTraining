{
  "nbformat": 4,
  "nbformat_minor": 0,
  "metadata": {
    "colab": {
      "provenance": [],
      "authorship_tag": "ABX9TyM3y2vZjvL5UAc9+v73mNZk",
      "include_colab_link": true
    },
    "kernelspec": {
      "name": "python3",
      "display_name": "Python 3"
    },
    "language_info": {
      "name": "python"
    }
  },
  "cells": [
    {
      "cell_type": "markdown",
      "metadata": {
        "id": "view-in-github",
        "colab_type": "text"
      },
      "source": [
        "<a href=\"https://colab.research.google.com/github/6264nithya/ExcelrTraining/blob/main/Day4.ipynb\" target=\"_parent\"><img src=\"https://colab.research.google.com/assets/colab-badge.svg\" alt=\"Open In Colab\"/></a>"
      ]
    },
    {
      "cell_type": "code",
      "execution_count": 5,
      "metadata": {
        "colab": {
          "base_uri": "https://localhost:8080/"
        },
        "id": "pPSq6QyoPvML",
        "outputId": "c5aa8e75-eb44-4e32-f645-51cf05de5aac"
      },
      "outputs": [
        {
          "output_type": "stream",
          "name": "stdout",
          "text": [
            "Enter a positive integer: 10\n",
            "sum of even numbers 10 is: 30\n"
          ]
        }
      ],
      "source": [
        "n=int(input(\"Enter a positive integer: \"))\n",
        "sum = 0\n",
        "for i in range(2,n+1,2):\n",
        "  sum += i\n",
        "print(\"sum of even numbers\",n,\"is:\",sum)\n"
      ]
    },
    {
      "cell_type": "code",
      "source": [],
      "metadata": {
        "id": "PD67vKCTW8ge"
      },
      "execution_count": null,
      "outputs": []
    }
  ]
}