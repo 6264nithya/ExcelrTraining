{
  "nbformat": 4,
  "nbformat_minor": 0,
  "metadata": {
    "colab": {
      "provenance": [],
      "authorship_tag": "ABX9TyMR6+xN0/Ae6ijA7CPAgT+h",
      "include_colab_link": true
    },
    "kernelspec": {
      "name": "python3",
      "display_name": "Python 3"
    },
    "language_info": {
      "name": "python"
    }
  },
  "cells": [
    {
      "cell_type": "markdown",
      "metadata": {
        "id": "view-in-github",
        "colab_type": "text"
      },
      "source": [
        "<a href=\"https://colab.research.google.com/github/6264nithya/ExcelrTraining/blob/main/Day28.ipynb\" target=\"_parent\"><img src=\"https://colab.research.google.com/assets/colab-badge.svg\" alt=\"Open In Colab\"/></a>"
      ]
    },
    {
      "cell_type": "code",
      "execution_count": 7,
      "metadata": {
        "colab": {
          "base_uri": "https://localhost:8080/"
        },
        "id": "4P8Gz_yMMKLD",
        "outputId": "9c7a7407-1fe6-407c-d327-84cea5ccb8cd"
      },
      "outputs": [
        {
          "output_type": "stream",
          "name": "stdout",
          "text": [
            "Named Entities and their Types:\n",
            "Barack Obama: PERSON\n",
            "Hawaii: GPE\n",
            "44th: ORDINAL\n",
            "the United States: GPE\n"
          ]
        }
      ],
      "source": [
        "import spacy\n",
        "\n",
        "def perform_ner(text):\n",
        "    \"\"\"\n",
        "    Perform Named Entity Recognition (NER) on a given text using SpaCy.\n",
        "\n",
        "    Args:\n",
        "        text (str): The input text for NER.\n",
        "\n",
        "    Returns:\n",
        "        list: A list of tuples containing entities and their types.\n",
        "    \"\"\"\n",
        "    # Load the SpaCy English language model\n",
        "    nlp = spacy.load(\"en_core_web_sm\")\n",
        "\n",
        "    # Process the text\n",
        "    doc = nlp(text)\n",
        "\n",
        "    # Extract entities and their labels\n",
        "    entities = [(ent.text, ent.label_) for ent in doc.ents]\n",
        "    return entities\n",
        "\n",
        "# Test the function\n",
        "text = \"Barack Obama was born in Hawaii and served as the 44th President of the United States.\"\n",
        "entities = perform_ner(text)\n",
        "print(\"Named Entities and their Types:\")\n",
        "for entity, entity_type in entities:\n",
        "    print(f\"{entity}: {entity_type}\")\n"
      ]
    }
  ]
}