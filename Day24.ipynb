{
  "nbformat": 4,
  "nbformat_minor": 0,
  "metadata": {
    "colab": {
      "provenance": [],
      "authorship_tag": "ABX9TyPOsFCIKfK1cyZx4gOazPhf",
      "include_colab_link": true
    },
    "kernelspec": {
      "name": "python3",
      "display_name": "Python 3"
    },
    "language_info": {
      "name": "python"
    }
  },
  "cells": [
    {
      "cell_type": "markdown",
      "metadata": {
        "id": "view-in-github",
        "colab_type": "text"
      },
      "source": [
        "<a href=\"https://colab.research.google.com/github/6264nithya/ExcelrTraining/blob/main/Day24.ipynb\" target=\"_parent\"><img src=\"https://colab.research.google.com/assets/colab-badge.svg\" alt=\"Open In Colab\"/></a>"
      ]
    },
    {
      "cell_type": "code",
      "execution_count": 5,
      "metadata": {
        "colab": {
          "base_uri": "https://localhost:8080/"
        },
        "id": "4P8Gz_yMMKLD",
        "outputId": "b09f6e75-90df-4161-9581-fbac5362f791"
      },
      "outputs": [
        {
          "output_type": "stream",
          "name": "stdout",
          "text": [
            "Cosine Similarity: 0.0\n"
          ]
        }
      ],
      "source": [
        "from sklearn.feature_extraction.text import TfidfVectorizer\n",
        "from sklearn.metrics.pairwise import cosine_similarity\n",
        "\n",
        "def calculate_cosine_similarity(text1, text2):\n",
        "    \"\"\"\n",
        "    Calculate the cosine similarity between two strings.\n",
        "\n",
        "    Args:\n",
        "        text1 (str): The first input string.\n",
        "        text2 (str): The second input string.\n",
        "\n",
        "    Returns:\n",
        "        float: The cosine similarity score between the two strings.\n",
        "    \"\"\"\n",
        "    vectorizer = TfidfVectorizer()\n",
        "    tfidf_matrix = vectorizer.fit_transform([text1, text2])\n",
        "    similarity = cosine_similarity(tfidf_matrix[0:1], tfidf_matrix[1:2])\n",
        "    return similarity[0][0]\n",
        "\n",
        "# Test the function\n",
        "string1 = \"Natural Language Processing is fun.\"\n",
        "string2 = \"I love learning about NLP.\"\n",
        "similarity_score = calculate_cosine_similarity(string1, string2)\n",
        "print(f\"Cosine Similarity: {similarity_score}\")\n"
      ]
    }
  ]
}