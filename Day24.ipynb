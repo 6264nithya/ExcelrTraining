{
  "nbformat": 4,
  "nbformat_minor": 0,
  "metadata": {
    "colab": {
      "provenance": [],
      "authorship_tag": "ABX9TyMZjoyv+2OfZD4VHR2tNmVe",
      "include_colab_link": true
    },
    "kernelspec": {
      "name": "python3",
      "display_name": "Python 3"
    },
    "language_info": {
      "name": "python"
    }
  },
  "cells": [
    {
      "cell_type": "markdown",
      "metadata": {
        "id": "view-in-github",
        "colab_type": "text"
      },
      "source": [
        "<a href=\"https://colab.research.google.com/github/6264nithya/ExcelrTraining/blob/main/Day24.ipynb\" target=\"_parent\"><img src=\"https://colab.research.google.com/assets/colab-badge.svg\" alt=\"Open In Colab\"/></a>"
      ]
    },
    {
      "cell_type": "code",
      "execution_count": 6,
      "metadata": {
        "colab": {
          "base_uri": "https://localhost:8080/"
        },
        "id": "4P8Gz_yMMKLD",
        "outputId": "b70a4333-0017-437c-cc4c-a2c888318f55"
      },
      "outputs": [
        {
          "output_type": "stream",
          "name": "stderr",
          "text": [
            "[nltk_data] Downloading package punkt to /root/nltk_data...\n",
            "[nltk_data]   Unzipping tokenizers/punkt.zip.\n"
          ]
        },
        {
          "output_type": "stream",
          "name": "stdout",
          "text": [
            "Error: File not found at sample.txt\n",
            "10 Most Common Words:\n"
          ]
        }
      ],
      "source": [
        "import nltk\n",
        "from nltk.tokenize import word_tokenize\n",
        "from collections import Counter\n",
        "\n",
        "# Download NLTK data files (only required once)\n",
        "nltk.download('punkt')\n",
        "\n",
        "def get_most_common_words(file_path, n=10):\n",
        "    \"\"\"\n",
        "    Load a text file, tokenize the text, and return the n most common words.\n",
        "\n",
        "    Args:\n",
        "        file_path (str): Path to the text file.\n",
        "        n (int): Number of most common words to return.\n",
        "\n",
        "    Returns:\n",
        "        list: A list of tuples containing words and their frequencies.\n",
        "    \"\"\"\n",
        "    try:\n",
        "        with open(file_path, 'r') as file:\n",
        "            text = file.read()\n",
        "        tokens = word_tokenize(text)\n",
        "        word_counts = Counter(tokens)\n",
        "        return word_counts.most_common(n)\n",
        "\n",
        "    except FileNotFoundError:\n",
        "        print(f\"Error: File not found at {file_path}\")\n",
        "        return []\n",
        "file_path = 'sample.txt'  # Replace with your text file path\n",
        "most_common_words = get_most_common_words(file_path)\n",
        "print(\"10 Most Common Words:\")\n",
        "for word, count in most_common_words:\n",
        "    print(f\"{word}: {count}\")\n"
      ]
    }
  ]
}