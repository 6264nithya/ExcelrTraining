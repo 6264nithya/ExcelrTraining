{
  "nbformat": 4,
  "nbformat_minor": 0,
  "metadata": {
    "colab": {
      "provenance": [],
      "authorship_tag": "ABX9TyN4KinRqxvCBx3IN4S1HRk0",
      "include_colab_link": true
    },
    "kernelspec": {
      "name": "python3",
      "display_name": "Python 3"
    },
    "language_info": {
      "name": "python"
    }
  },
  "cells": [
    {
      "cell_type": "markdown",
      "metadata": {
        "id": "view-in-github",
        "colab_type": "text"
      },
      "source": [
        "<a href=\"https://colab.research.google.com/github/6264nithya/ExcelrTraining/blob/main/Day3.ipynb\" target=\"_parent\"><img src=\"https://colab.research.google.com/assets/colab-badge.svg\" alt=\"Open In Colab\"/></a>"
      ]
    },
    {
      "cell_type": "code",
      "execution_count": 1,
      "metadata": {
        "colab": {
          "base_uri": "https://localhost:8080/"
        },
        "id": "o7yt5d7kOeHa",
        "outputId": "9cec1825-271b-43af-dec3-5da80716183b"
      },
      "outputs": [
        {
          "output_type": "stream",
          "name": "stdout",
          "text": [
            "Enter marks for Subject 1: 100\n",
            "Enter marks for Subject 2: 50\n",
            "Enter marks for Subject 3: 70\n",
            "Grade: C\n"
          ]
        }
      ],
      "source": [
        "marks1 = float(input(\"Enter marks for Subject 1: \"))\n",
        "marks2 = float(input(\"Enter marks for Subject 2: \"))\n",
        "marks3 = float(input(\"Enter marks for Subject 3: \"))\n",
        "\n",
        "average = (marks1 + marks2 + marks3) / 3\n",
        "\n",
        "if average >= 90:\n",
        "    print(\"Grade: A\")\n",
        "elif average >= 80:\n",
        "    print(\"Grade: B\")\n",
        "elif average >= 70:\n",
        "    print(\"Grade: C\")\n",
        "else:\n",
        "    print(\"Grade: Fail\")\n"
      ]
    },
    {
      "cell_type": "code",
      "source": [],
      "metadata": {
        "id": "i6AAr5sPPOMn"
      },
      "execution_count": null,
      "outputs": []
    }
  ]
}