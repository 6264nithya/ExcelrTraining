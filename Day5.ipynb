{
  "nbformat": 4,
  "nbformat_minor": 0,
  "metadata": {
    "colab": {
      "provenance": [],
      "authorship_tag": "ABX9TyOdLiLr3s/B9BRfqWg66VUd",
      "include_colab_link": true
    },
    "kernelspec": {
      "name": "python3",
      "display_name": "Python 3"
    },
    "language_info": {
      "name": "python"
    }
  },
  "cells": [
    {
      "cell_type": "markdown",
      "metadata": {
        "id": "view-in-github",
        "colab_type": "text"
      },
      "source": [
        "<a href=\"https://colab.research.google.com/github/6264nithya/ExcelrTraining/blob/main/Day5.ipynb\" target=\"_parent\"><img src=\"https://colab.research.google.com/assets/colab-badge.svg\" alt=\"Open In Colab\"/></a>"
      ]
    },
    {
      "cell_type": "code",
      "execution_count": 4,
      "metadata": {
        "colab": {
          "base_uri": "https://localhost:8080/"
        },
        "id": "OLf9whc8ray0",
        "outputId": "a4233576-3d43-4ac8-db14-fc5ba29a38b9"
      },
      "outputs": [
        {
          "output_type": "stream",
          "name": "stdout",
          "text": [
            "Enter a text: hello ,hello again and again\n",
            "\n",
            "Word Frequencies:\n",
            "hello: 2\n",
            "again: 2\n",
            "and: 1\n"
          ]
        }
      ],
      "source": [
        "text = input(\"Enter a text: \")\n",
        "words = text.lower().split()\n",
        "\n",
        "word_counts = {}\n",
        "\n",
        "for word in words:\n",
        "    word = word.strip(\".,!?;:\\\"'()[]{}\")\n",
        "    word_counts[word] = word_counts.get(word, 0) + 1\n",
        "\n",
        "\n",
        "print(\"\\nWord Frequencies:\")\n",
        "for word, count in word_counts.items():\n",
        "    print(f\"{word}: {count}\")\n"
      ]
    },
    {
      "cell_type": "code",
      "source": [],
      "metadata": {
        "id": "v5LWK6Cfrt7G"
      },
      "execution_count": null,
      "outputs": []
    }
  ]
}